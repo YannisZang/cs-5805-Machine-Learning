{
  "cells": [
    {
      "cell_type": "markdown",
      "metadata": {
        "id": "view-in-github",
        "colab_type": "text"
      },
      "source": [
        "<a href=\"https://colab.research.google.com/github/YannisZang/cs-5805-Machine-Learning/blob/main/Linear_regression_Variants_(SOR%2C_Ridge%2C_LASSO)_NYC_Taxi_Cab_Dataset.ipynb\" target=\"_parent\"><img src=\"https://colab.research.google.com/assets/colab-badge.svg\" alt=\"Open In Colab\"/></a>"
      ]
    },
    {
      "cell_type": "code",
      "source": [
        "!pip install datashader\n",
        "!pip install dask"
      ],
      "execution_count": null,
      "outputs": [
        {
          "output_type": "stream",
          "name": "stdout",
          "text": [
            "Requirement already satisfied: datashader in /usr/local/lib/python3.11/dist-packages (0.17.0)\n",
            "Requirement already satisfied: colorcet in /usr/local/lib/python3.11/dist-packages (from datashader) (3.1.0)\n",
            "Requirement already satisfied: multipledispatch in /usr/local/lib/python3.11/dist-packages (from datashader) (1.0.0)\n",
            "Requirement already satisfied: numba in /usr/local/lib/python3.11/dist-packages (from datashader) (0.60.0)\n",
            "Requirement already satisfied: numpy in /usr/local/lib/python3.11/dist-packages (from datashader) (1.26.4)\n",
            "Requirement already satisfied: packaging in /usr/local/lib/python3.11/dist-packages (from datashader) (24.2)\n",
            "Requirement already satisfied: pandas in /usr/local/lib/python3.11/dist-packages (from datashader) (2.2.2)\n",
            "Requirement already satisfied: param in /usr/local/lib/python3.11/dist-packages (from datashader) (2.2.0)\n",
            "Requirement already satisfied: pyct in /usr/local/lib/python3.11/dist-packages (from datashader) (0.5.0)\n",
            "Requirement already satisfied: requests in /usr/local/lib/python3.11/dist-packages (from datashader) (2.32.3)\n",
            "Requirement already satisfied: scipy in /usr/local/lib/python3.11/dist-packages (from datashader) (1.13.1)\n",
            "Requirement already satisfied: toolz in /usr/local/lib/python3.11/dist-packages (from datashader) (0.12.1)\n",
            "Requirement already satisfied: xarray in /usr/local/lib/python3.11/dist-packages (from datashader) (2025.1.1)\n",
            "Requirement already satisfied: llvmlite<0.44,>=0.43.0dev0 in /usr/local/lib/python3.11/dist-packages (from numba->datashader) (0.43.0)\n",
            "Requirement already satisfied: python-dateutil>=2.8.2 in /usr/local/lib/python3.11/dist-packages (from pandas->datashader) (2.8.2)\n",
            "Requirement already satisfied: pytz>=2020.1 in /usr/local/lib/python3.11/dist-packages (from pandas->datashader) (2024.2)\n",
            "Requirement already satisfied: tzdata>=2022.7 in /usr/local/lib/python3.11/dist-packages (from pandas->datashader) (2025.1)\n",
            "Requirement already satisfied: charset-normalizer<4,>=2 in /usr/local/lib/python3.11/dist-packages (from requests->datashader) (3.4.1)\n",
            "Requirement already satisfied: idna<4,>=2.5 in /usr/local/lib/python3.11/dist-packages (from requests->datashader) (3.10)\n",
            "Requirement already satisfied: urllib3<3,>=1.21.1 in /usr/local/lib/python3.11/dist-packages (from requests->datashader) (2.3.0)\n",
            "Requirement already satisfied: certifi>=2017.4.17 in /usr/local/lib/python3.11/dist-packages (from requests->datashader) (2024.12.14)\n",
            "Requirement already satisfied: six>=1.5 in /usr/local/lib/python3.11/dist-packages (from python-dateutil>=2.8.2->pandas->datashader) (1.17.0)\n",
            "Requirement already satisfied: dask in /usr/local/lib/python3.11/dist-packages (2024.10.0)\n",
            "Requirement already satisfied: click>=8.1 in /usr/local/lib/python3.11/dist-packages (from dask) (8.1.8)\n",
            "Requirement already satisfied: cloudpickle>=3.0.0 in /usr/local/lib/python3.11/dist-packages (from dask) (3.1.1)\n",
            "Requirement already satisfied: fsspec>=2021.09.0 in /usr/local/lib/python3.11/dist-packages (from dask) (2024.10.0)\n",
            "Requirement already satisfied: packaging>=20.0 in /usr/local/lib/python3.11/dist-packages (from dask) (24.2)\n",
            "Requirement already satisfied: partd>=1.4.0 in /usr/local/lib/python3.11/dist-packages (from dask) (1.4.2)\n",
            "Requirement already satisfied: pyyaml>=5.3.1 in /usr/local/lib/python3.11/dist-packages (from dask) (6.0.2)\n",
            "Requirement already satisfied: toolz>=0.10.0 in /usr/local/lib/python3.11/dist-packages (from dask) (0.12.1)\n",
            "Requirement already satisfied: importlib-metadata>=4.13.0 in /usr/local/lib/python3.11/dist-packages (from dask) (8.6.1)\n",
            "Requirement already satisfied: zipp>=3.20 in /usr/local/lib/python3.11/dist-packages (from importlib-metadata>=4.13.0->dask) (3.21.0)\n",
            "Requirement already satisfied: locket in /usr/local/lib/python3.11/dist-packages (from partd>=1.4.0->dask) (1.0.0)\n"
          ]
        }
      ],
      "metadata": {
        "datalore": {
          "node_id": "23pHxBYqsOqSOXfsajaPoo",
          "type": "CODE",
          "hide_input_from_viewers": false,
          "hide_output_from_viewers": false,
          "report_properties": {
            "rowId": "QrazGzelaVG0pR238VTQFJ"
          }
        },
        "colab": {
          "base_uri": "https://localhost:8080/"
        },
        "id": "GrngCv1ddiYp",
        "outputId": "d3532e0a-0c30-42c7-fc3e-a5c0f4e8b761"
      }
    },
    {
      "cell_type": "code",
      "source": [
        "# Import basic required modules\n",
        "import pandas as pd\n",
        "import numpy as np\n",
        "import matplotlib.pyplot as plt\n",
        "import seaborn as sns\n",
        "\n",
        "plt.style.use('bmh')\n",
        "sns.set_style({'axes.grid':False})\n",
        "\n",
        "# Advanced visualization modules(datashader)\n",
        "import datashader as ds\n",
        "import datashader.transfer_functions as tf\n",
        "from datashader.colors import viridis, inferno"
      ],
      "execution_count": null,
      "outputs": [],
      "metadata": {
        "datalore": {
          "node_id": "tY9Vq0GwEkfQah33SpttXi",
          "type": "CODE",
          "hide_input_from_viewers": false,
          "hide_output_from_viewers": false,
          "report_properties": {
            "rowId": "VBowQuNq4mrJ89KyRkRunn"
          }
        },
        "id": "tsCFfDqIdiYr"
      }
    },
    {
      "cell_type": "markdown",
      "source": [
        "# 1. Data Loading and Basic Processing"
      ],
      "metadata": {
        "datalore": {
          "node_id": "Na160hQPnqjJVWiRIF6flp",
          "type": "MD",
          "hide_input_from_viewers": false,
          "hide_output_from_viewers": false,
          "report_properties": {
            "rowId": "mqKqUffzsUsOWvfLn49RkG"
          }
        },
        "id": "wxi6Q-vkdiYs"
      }
    },
    {
      "cell_type": "code",
      "source": [
        "train = pd.read_csv('/content/sample_data/NYC_train_cleaned.csv')\n",
        "test = pd.read_csv('/content/sample_data/NYC_test_cleaned.csv')\n",
        "train.columns, test.columns, train.shape, test.shape"
      ],
      "execution_count": null,
      "outputs": [
        {
          "output_type": "execute_result",
          "data": {
            "text/plain": [
              "(Index(['fare_amount', 'pickup_datetime', 'pickup_longitude', 'pickup_latitude',\n",
              "        'dropoff_longitude', 'dropoff_latitude', 'passenger_count'],\n",
              "       dtype='object'),\n",
              " Index(['fare_amount', 'pickup_datetime', 'pickup_longitude', 'pickup_latitude',\n",
              "        'dropoff_longitude', 'dropoff_latitude', 'passenger_count'],\n",
              "       dtype='object'),\n",
              " (800000, 7),\n",
              " (200000, 7))"
            ]
          },
          "metadata": {},
          "execution_count": 5
        }
      ],
      "metadata": {
        "datalore": {
          "node_id": "foXtxSjcPGCAbXZWZTw2EE",
          "type": "CODE",
          "hide_input_from_viewers": false,
          "hide_output_from_viewers": false,
          "report_properties": {
            "rowId": "tGs9K05oHpbRqI2LgOj2kU"
          }
        },
        "colab": {
          "base_uri": "https://localhost:8080/"
        },
        "id": "FXra73IddiYt",
        "outputId": "d7912fd8-b0b6-4b57-83ad-0a05084b3a5a"
      }
    },
    {
      "cell_type": "code",
      "source": [
        "train['pickup_datetime'] = pd.to_datetime(train['pickup_datetime'], infer_datetime_format=True)\n",
        "test['pickup_datetime'] = pd.to_datetime(test['pickup_datetime'], infer_datetime_format=True)"
      ],
      "execution_count": null,
      "outputs": [
        {
          "output_type": "stream",
          "name": "stderr",
          "text": [
            "<ipython-input-6-eed7ee55f5b8>:1: UserWarning: The argument 'infer_datetime_format' is deprecated and will be removed in a future version. A strict version of it is now the default, see https://pandas.pydata.org/pdeps/0004-consistent-to-datetime-parsing.html. You can safely remove this argument.\n",
            "  train['pickup_datetime'] = pd.to_datetime(train['pickup_datetime'], infer_datetime_format=True)\n",
            "<ipython-input-6-eed7ee55f5b8>:2: UserWarning: The argument 'infer_datetime_format' is deprecated and will be removed in a future version. A strict version of it is now the default, see https://pandas.pydata.org/pdeps/0004-consistent-to-datetime-parsing.html. You can safely remove this argument.\n",
            "  test['pickup_datetime'] = pd.to_datetime(test['pickup_datetime'], infer_datetime_format=True)\n"
          ]
        }
      ],
      "metadata": {
        "datalore": {
          "node_id": "RLjgtImKtBWLllqoIHP7u0",
          "type": "CODE",
          "hide_input_from_viewers": false,
          "hide_output_from_viewers": false,
          "report_properties": {
            "rowId": "RzTLVdxipRDpInTH3DnNK6"
          }
        },
        "colab": {
          "base_uri": "https://localhost:8080/"
        },
        "id": "4LvcZzHwdiYt",
        "outputId": "ddd80508-1893-4748-c82d-0d77811abba3"
      }
    },
    {
      "cell_type": "code",
      "source": [
        "train.head()"
      ],
      "execution_count": null,
      "outputs": [
        {
          "output_type": "execute_result",
          "data": {
            "text/plain": [
              "   fare_amount           pickup_datetime  pickup_longitude  pickup_latitude  \\\n",
              "0         22.5 2013-05-30 23:51:00+00:00         -73.99959        40.714508   \n",
              "1          8.5 2012-09-23 10:42:49+00:00         -73.99823        40.760864   \n",
              "2         14.1 2011-04-13 10:08:00+00:00         -73.99050        40.759070   \n",
              "3         10.1 2012-06-05 14:44:27+00:00         -73.98430        40.761910   \n",
              "4          4.1 2009-12-17 13:20:00+00:00         -73.94736        40.776060   \n",
              "\n",
              "   dropoff_longitude  dropoff_latitude  passenger_count  \n",
              "0         -73.914310         40.685000                4  \n",
              "1         -73.989150         40.743465                1  \n",
              "2         -73.987946         40.761450                2  \n",
              "3         -73.973080         40.748734                1  \n",
              "4         -73.955940         40.779636                5  "
            ],
            "text/html": [
              "\n",
              "  <div id=\"df-5262b8cd-c57c-4272-935f-8dc3f025feeb\" class=\"colab-df-container\">\n",
              "    <div>\n",
              "<style scoped>\n",
              "    .dataframe tbody tr th:only-of-type {\n",
              "        vertical-align: middle;\n",
              "    }\n",
              "\n",
              "    .dataframe tbody tr th {\n",
              "        vertical-align: top;\n",
              "    }\n",
              "\n",
              "    .dataframe thead th {\n",
              "        text-align: right;\n",
              "    }\n",
              "</style>\n",
              "<table border=\"1\" class=\"dataframe\">\n",
              "  <thead>\n",
              "    <tr style=\"text-align: right;\">\n",
              "      <th></th>\n",
              "      <th>fare_amount</th>\n",
              "      <th>pickup_datetime</th>\n",
              "      <th>pickup_longitude</th>\n",
              "      <th>pickup_latitude</th>\n",
              "      <th>dropoff_longitude</th>\n",
              "      <th>dropoff_latitude</th>\n",
              "      <th>passenger_count</th>\n",
              "    </tr>\n",
              "  </thead>\n",
              "  <tbody>\n",
              "    <tr>\n",
              "      <th>0</th>\n",
              "      <td>22.5</td>\n",
              "      <td>2013-05-30 23:51:00+00:00</td>\n",
              "      <td>-73.99959</td>\n",
              "      <td>40.714508</td>\n",
              "      <td>-73.914310</td>\n",
              "      <td>40.685000</td>\n",
              "      <td>4</td>\n",
              "    </tr>\n",
              "    <tr>\n",
              "      <th>1</th>\n",
              "      <td>8.5</td>\n",
              "      <td>2012-09-23 10:42:49+00:00</td>\n",
              "      <td>-73.99823</td>\n",
              "      <td>40.760864</td>\n",
              "      <td>-73.989150</td>\n",
              "      <td>40.743465</td>\n",
              "      <td>1</td>\n",
              "    </tr>\n",
              "    <tr>\n",
              "      <th>2</th>\n",
              "      <td>14.1</td>\n",
              "      <td>2011-04-13 10:08:00+00:00</td>\n",
              "      <td>-73.99050</td>\n",
              "      <td>40.759070</td>\n",
              "      <td>-73.987946</td>\n",
              "      <td>40.761450</td>\n",
              "      <td>2</td>\n",
              "    </tr>\n",
              "    <tr>\n",
              "      <th>3</th>\n",
              "      <td>10.1</td>\n",
              "      <td>2012-06-05 14:44:27+00:00</td>\n",
              "      <td>-73.98430</td>\n",
              "      <td>40.761910</td>\n",
              "      <td>-73.973080</td>\n",
              "      <td>40.748734</td>\n",
              "      <td>1</td>\n",
              "    </tr>\n",
              "    <tr>\n",
              "      <th>4</th>\n",
              "      <td>4.1</td>\n",
              "      <td>2009-12-17 13:20:00+00:00</td>\n",
              "      <td>-73.94736</td>\n",
              "      <td>40.776060</td>\n",
              "      <td>-73.955940</td>\n",
              "      <td>40.779636</td>\n",
              "      <td>5</td>\n",
              "    </tr>\n",
              "  </tbody>\n",
              "</table>\n",
              "</div>\n",
              "    <div class=\"colab-df-buttons\">\n",
              "\n",
              "  <div class=\"colab-df-container\">\n",
              "    <button class=\"colab-df-convert\" onclick=\"convertToInteractive('df-5262b8cd-c57c-4272-935f-8dc3f025feeb')\"\n",
              "            title=\"Convert this dataframe to an interactive table.\"\n",
              "            style=\"display:none;\">\n",
              "\n",
              "  <svg xmlns=\"http://www.w3.org/2000/svg\" height=\"24px\" viewBox=\"0 -960 960 960\">\n",
              "    <path d=\"M120-120v-720h720v720H120Zm60-500h600v-160H180v160Zm220 220h160v-160H400v160Zm0 220h160v-160H400v160ZM180-400h160v-160H180v160Zm440 0h160v-160H620v160ZM180-180h160v-160H180v160Zm440 0h160v-160H620v160Z\"/>\n",
              "  </svg>\n",
              "    </button>\n",
              "\n",
              "  <style>\n",
              "    .colab-df-container {\n",
              "      display:flex;\n",
              "      gap: 12px;\n",
              "    }\n",
              "\n",
              "    .colab-df-convert {\n",
              "      background-color: #E8F0FE;\n",
              "      border: none;\n",
              "      border-radius: 50%;\n",
              "      cursor: pointer;\n",
              "      display: none;\n",
              "      fill: #1967D2;\n",
              "      height: 32px;\n",
              "      padding: 0 0 0 0;\n",
              "      width: 32px;\n",
              "    }\n",
              "\n",
              "    .colab-df-convert:hover {\n",
              "      background-color: #E2EBFA;\n",
              "      box-shadow: 0px 1px 2px rgba(60, 64, 67, 0.3), 0px 1px 3px 1px rgba(60, 64, 67, 0.15);\n",
              "      fill: #174EA6;\n",
              "    }\n",
              "\n",
              "    .colab-df-buttons div {\n",
              "      margin-bottom: 4px;\n",
              "    }\n",
              "\n",
              "    [theme=dark] .colab-df-convert {\n",
              "      background-color: #3B4455;\n",
              "      fill: #D2E3FC;\n",
              "    }\n",
              "\n",
              "    [theme=dark] .colab-df-convert:hover {\n",
              "      background-color: #434B5C;\n",
              "      box-shadow: 0px 1px 3px 1px rgba(0, 0, 0, 0.15);\n",
              "      filter: drop-shadow(0px 1px 2px rgba(0, 0, 0, 0.3));\n",
              "      fill: #FFFFFF;\n",
              "    }\n",
              "  </style>\n",
              "\n",
              "    <script>\n",
              "      const buttonEl =\n",
              "        document.querySelector('#df-5262b8cd-c57c-4272-935f-8dc3f025feeb button.colab-df-convert');\n",
              "      buttonEl.style.display =\n",
              "        google.colab.kernel.accessAllowed ? 'block' : 'none';\n",
              "\n",
              "      async function convertToInteractive(key) {\n",
              "        const element = document.querySelector('#df-5262b8cd-c57c-4272-935f-8dc3f025feeb');\n",
              "        const dataTable =\n",
              "          await google.colab.kernel.invokeFunction('convertToInteractive',\n",
              "                                                    [key], {});\n",
              "        if (!dataTable) return;\n",
              "\n",
              "        const docLinkHtml = 'Like what you see? Visit the ' +\n",
              "          '<a target=\"_blank\" href=https://colab.research.google.com/notebooks/data_table.ipynb>data table notebook</a>'\n",
              "          + ' to learn more about interactive tables.';\n",
              "        element.innerHTML = '';\n",
              "        dataTable['output_type'] = 'display_data';\n",
              "        await google.colab.output.renderOutput(dataTable, element);\n",
              "        const docLink = document.createElement('div');\n",
              "        docLink.innerHTML = docLinkHtml;\n",
              "        element.appendChild(docLink);\n",
              "      }\n",
              "    </script>\n",
              "  </div>\n",
              "\n",
              "\n",
              "<div id=\"df-3a92369c-572d-4a6d-97a3-135e83df1b44\">\n",
              "  <button class=\"colab-df-quickchart\" onclick=\"quickchart('df-3a92369c-572d-4a6d-97a3-135e83df1b44')\"\n",
              "            title=\"Suggest charts\"\n",
              "            style=\"display:none;\">\n",
              "\n",
              "<svg xmlns=\"http://www.w3.org/2000/svg\" height=\"24px\"viewBox=\"0 0 24 24\"\n",
              "     width=\"24px\">\n",
              "    <g>\n",
              "        <path d=\"M19 3H5c-1.1 0-2 .9-2 2v14c0 1.1.9 2 2 2h14c1.1 0 2-.9 2-2V5c0-1.1-.9-2-2-2zM9 17H7v-7h2v7zm4 0h-2V7h2v10zm4 0h-2v-4h2v4z\"/>\n",
              "    </g>\n",
              "</svg>\n",
              "  </button>\n",
              "\n",
              "<style>\n",
              "  .colab-df-quickchart {\n",
              "      --bg-color: #E8F0FE;\n",
              "      --fill-color: #1967D2;\n",
              "      --hover-bg-color: #E2EBFA;\n",
              "      --hover-fill-color: #174EA6;\n",
              "      --disabled-fill-color: #AAA;\n",
              "      --disabled-bg-color: #DDD;\n",
              "  }\n",
              "\n",
              "  [theme=dark] .colab-df-quickchart {\n",
              "      --bg-color: #3B4455;\n",
              "      --fill-color: #D2E3FC;\n",
              "      --hover-bg-color: #434B5C;\n",
              "      --hover-fill-color: #FFFFFF;\n",
              "      --disabled-bg-color: #3B4455;\n",
              "      --disabled-fill-color: #666;\n",
              "  }\n",
              "\n",
              "  .colab-df-quickchart {\n",
              "    background-color: var(--bg-color);\n",
              "    border: none;\n",
              "    border-radius: 50%;\n",
              "    cursor: pointer;\n",
              "    display: none;\n",
              "    fill: var(--fill-color);\n",
              "    height: 32px;\n",
              "    padding: 0;\n",
              "    width: 32px;\n",
              "  }\n",
              "\n",
              "  .colab-df-quickchart:hover {\n",
              "    background-color: var(--hover-bg-color);\n",
              "    box-shadow: 0 1px 2px rgba(60, 64, 67, 0.3), 0 1px 3px 1px rgba(60, 64, 67, 0.15);\n",
              "    fill: var(--button-hover-fill-color);\n",
              "  }\n",
              "\n",
              "  .colab-df-quickchart-complete:disabled,\n",
              "  .colab-df-quickchart-complete:disabled:hover {\n",
              "    background-color: var(--disabled-bg-color);\n",
              "    fill: var(--disabled-fill-color);\n",
              "    box-shadow: none;\n",
              "  }\n",
              "\n",
              "  .colab-df-spinner {\n",
              "    border: 2px solid var(--fill-color);\n",
              "    border-color: transparent;\n",
              "    border-bottom-color: var(--fill-color);\n",
              "    animation:\n",
              "      spin 1s steps(1) infinite;\n",
              "  }\n",
              "\n",
              "  @keyframes spin {\n",
              "    0% {\n",
              "      border-color: transparent;\n",
              "      border-bottom-color: var(--fill-color);\n",
              "      border-left-color: var(--fill-color);\n",
              "    }\n",
              "    20% {\n",
              "      border-color: transparent;\n",
              "      border-left-color: var(--fill-color);\n",
              "      border-top-color: var(--fill-color);\n",
              "    }\n",
              "    30% {\n",
              "      border-color: transparent;\n",
              "      border-left-color: var(--fill-color);\n",
              "      border-top-color: var(--fill-color);\n",
              "      border-right-color: var(--fill-color);\n",
              "    }\n",
              "    40% {\n",
              "      border-color: transparent;\n",
              "      border-right-color: var(--fill-color);\n",
              "      border-top-color: var(--fill-color);\n",
              "    }\n",
              "    60% {\n",
              "      border-color: transparent;\n",
              "      border-right-color: var(--fill-color);\n",
              "    }\n",
              "    80% {\n",
              "      border-color: transparent;\n",
              "      border-right-color: var(--fill-color);\n",
              "      border-bottom-color: var(--fill-color);\n",
              "    }\n",
              "    90% {\n",
              "      border-color: transparent;\n",
              "      border-bottom-color: var(--fill-color);\n",
              "    }\n",
              "  }\n",
              "</style>\n",
              "\n",
              "  <script>\n",
              "    async function quickchart(key) {\n",
              "      const quickchartButtonEl =\n",
              "        document.querySelector('#' + key + ' button');\n",
              "      quickchartButtonEl.disabled = true;  // To prevent multiple clicks.\n",
              "      quickchartButtonEl.classList.add('colab-df-spinner');\n",
              "      try {\n",
              "        const charts = await google.colab.kernel.invokeFunction(\n",
              "            'suggestCharts', [key], {});\n",
              "      } catch (error) {\n",
              "        console.error('Error during call to suggestCharts:', error);\n",
              "      }\n",
              "      quickchartButtonEl.classList.remove('colab-df-spinner');\n",
              "      quickchartButtonEl.classList.add('colab-df-quickchart-complete');\n",
              "    }\n",
              "    (() => {\n",
              "      let quickchartButtonEl =\n",
              "        document.querySelector('#df-3a92369c-572d-4a6d-97a3-135e83df1b44 button');\n",
              "      quickchartButtonEl.style.display =\n",
              "        google.colab.kernel.accessAllowed ? 'block' : 'none';\n",
              "    })();\n",
              "  </script>\n",
              "</div>\n",
              "\n",
              "    </div>\n",
              "  </div>\n"
            ],
            "application/vnd.google.colaboratory.intrinsic+json": {
              "type": "dataframe",
              "variable_name": "train"
            }
          },
          "metadata": {},
          "execution_count": 7
        }
      ],
      "metadata": {
        "datalore": {
          "node_id": "YYsVtbrhc3pTHUED1XWBmD",
          "type": "CODE",
          "hide_input_from_viewers": false,
          "hide_output_from_viewers": false,
          "report_properties": {
            "rowId": "6YZtapPbVOwz1M5l0bO6ZR"
          }
        },
        "colab": {
          "base_uri": "https://localhost:8080/",
          "height": 206
        },
        "id": "OFHsKdskdiYu",
        "outputId": "eb50c4c1-810c-453e-a744-9b40810e903c"
      }
    },
    {
      "cell_type": "code",
      "source": [
        "import warnings\n",
        "warnings.filterwarnings('ignore')"
      ],
      "execution_count": null,
      "outputs": [],
      "metadata": {
        "datalore": {
          "node_id": "pWLamaKSHl8MSEEfWb84IO",
          "type": "CODE",
          "hide_input_from_viewers": false,
          "hide_output_from_viewers": false,
          "report_properties": {
            "rowId": "Jz9asbotNQPQx04ElHLgKT"
          }
        },
        "id": "LWwMekC5diYu"
      }
    },
    {
      "cell_type": "markdown",
      "source": [
        "# 2. Data exploration"
      ],
      "metadata": {
        "datalore": {
          "node_id": "Dr4t09f8v6AOQvmEY3Dofw",
          "type": "MD",
          "hide_input_from_viewers": false,
          "hide_output_from_viewers": false,
          "report_properties": {
            "rowId": "il19oaDS0wZH5VPT4yF7xo"
          }
        },
        "id": "lNzMOiHSdiYu"
      }
    },
    {
      "cell_type": "markdown",
      "source": [
        "## 2.1 Fare Amount (Output variable)"
      ],
      "metadata": {
        "datalore": {
          "node_id": "GzLOdoczo1yQzwReRTy6pI",
          "type": "MD",
          "hide_input_from_viewers": false,
          "hide_output_from_viewers": false,
          "report_properties": {
            "rowId": "1gNf8RURVzEi5yrtJCm6do"
          }
        },
        "id": "uIq6o6WddiYu"
      }
    },
    {
      "cell_type": "code",
      "source": [
        "fig, ax = plt.subplots(figsize = (14,6))\n",
        "sns.distplot(train.fare_amount, bins = 200, color = 'firebrick', ax = ax)\n",
        "ax.set_title('Distribution of fare_amount (Observe the long tail)')\n",
        "ax.set_ylabel('relative frequency')\n",
        "plt.show()"
      ],
      "execution_count": null,
      "outputs": [
        {
          "output_type": "display_data",
          "data": {
            "text/plain": [
              "<Figure size 1400x600 with 1 Axes>"
            ],
            "image/png": "[encoded data removed]"
          },
          "metadata": {}
        }
      ],
      "metadata": {
        "datalore": {
          "node_id": "X9dNniT83B270W2Ru3yf80",
          "type": "CODE",
          "hide_input_from_viewers": false,
          "hide_output_from_viewers": false,
          "report_properties": {
            "rowId": "iK35DbOGhbO7oLVKsijlBo"
          }
        },
        "colab": {
          "base_uri": "https://localhost:8080/",
          "height": 565
        },
        "id": "HC8FaEl1diYu",
        "outputId": "f949f211-0464-4979-9deb-f6ced965fda5"
      }
    },
    {
      "cell_type": "markdown",
      "source": [
        "## 2.2 Passenger Count"
      ],
      "metadata": {
        "datalore": {
          "node_id": "x3AsrEq1q0OeJ9MgOowI5A",
          "type": "MD",
          "hide_input_from_viewers": false,
          "hide_output_from_viewers": false,
          "report_properties": {
            "rowId": "D41NhuhLyAy08DN8ZCo6xy"
          }
        },
        "id": "DpYJM0CmdiYu"
      }
    },
    {
      "cell_type": "code",
      "source": [
        "fig, ax = plt.subplots(figsize = (14,6))\n",
        "class_dist = train.passenger_count.value_counts()\n",
        "class_dist = class_dist.sort_index()\n",
        "class_dist.plot(kind = 'bar', ax = ax)\n",
        "ax.set_title('Distribution of passenger_count (Observe outliers: 9/129/208)')\n",
        "ax.set_ylabel('Absolute frequency')\n",
        "plt.show()"
      ],
      "execution_count": null,
      "outputs": [
        {
          "output_type": "display_data",
          "data": {
            "text/plain": [
              "<Figure size 1400x600 with 1 Axes>"
            ],
            "image/png": "[encoded data removed]"
          },
          "metadata": {}
        }
      ],
      "metadata": {
        "datalore": {
          "node_id": "RivAPZIze0cctEM3yrHAsw",
          "type": "CODE",
          "hide_input_from_viewers": false,
          "hide_output_from_viewers": false,
          "report_properties": {
            "rowId": "llTcgTRXT77IQCFNNEkSSA"
          }
        },
        "colab": {
          "base_uri": "https://localhost:8080/",
          "height": 577
        },
        "id": "urtNNvQNdiYv",
        "outputId": "ac617da1-c401-4232-a9d6-6dec082a1d4a"
      }
    },
    {
      "cell_type": "markdown",
      "source": [
        "# 3. Data cleaning - removing outliers"
      ],
      "metadata": {
        "datalore": {
          "node_id": "2gGINZaSRR74njJ9HS1X25",
          "type": "MD",
          "hide_input_from_viewers": false,
          "hide_output_from_viewers": false,
          "report_properties": {
            "rowId": "rbDBNOUtqg2Ivs371etTIO"
          }
        },
        "id": "IXBfkwPddiYv"
      }
    },
    {
      "cell_type": "markdown",
      "source": [
        "### 3.1 Removing outliers w.r.t. fare amount"
      ],
      "metadata": {
        "datalore": {
          "node_id": "8Gkybd5UjHaBflriLWgbZB",
          "type": "MD",
          "hide_input_from_viewers": false,
          "hide_output_from_viewers": false,
          "report_properties": {
            "rowId": "VTgyUtaMdKI1s0glTv3Hah"
          }
        },
        "id": "BV2BZr0udiYv"
      }
    },
    {
      "cell_type": "code",
      "source": [
        "# Drop fare_amount less than 0.\n",
        "neg_fare = train.loc[train.fare_amount<0, :].index\n",
        "train.drop(neg_fare, axis = 0, inplace = True)\n",
        "\n",
        "# Drop rows greater than 100 and lesser than 2.5\n",
        "fares_to_drop = train.loc[(train.fare_amount>100) | (train.fare_amount<2.5), :].index\n",
        "train.drop(fares_to_drop, axis = 0, inplace = True)\n",
        "print('Shape of training data after dropping outliers: {}'.format(train.shape))\n",
        "\n",
        "# Do the same for the test data\n",
        "neg_fare = test.loc[test.fare_amount<0, :].index\n",
        "test.drop(neg_fare, axis = 0, inplace = True)\n",
        "fares_to_drop = test.loc[(test.fare_amount>100) | (test.fare_amount<2.5), :].index\n",
        "test.drop(fares_to_drop, axis = 0, inplace = True)"
      ],
      "execution_count": null,
      "outputs": [
        {
          "output_type": "stream",
          "name": "stdout",
          "text": [
            "Shape of training data after dropping outliers: (799636, 7)\n"
          ]
        }
      ],
      "metadata": {
        "datalore": {
          "node_id": "p4dzlxNeSf9xuFVSrGl80r",
          "type": "CODE",
          "hide_input_from_viewers": false,
          "hide_output_from_viewers": false,
          "report_properties": {
            "rowId": "vziZbz2cLMJFXqg2gSuaGv"
          }
        },
        "colab": {
          "base_uri": "https://localhost:8080/"
        },
        "id": "uXYIwWIFdiYv",
        "outputId": "62dc98af-93ba-4872-e3ab-89bf3c976f58"
      }
    },
    {
      "cell_type": "markdown",
      "source": [
        "## 3.2 Removing outliers w.r.t. latitudes and longitudes\n",
        "Check the 2.5 and 97.5 percentiles of both"
      ],
      "metadata": {
        "datalore": {
          "node_id": "lqV8uP4cjDB8tIGfIcVEwI",
          "type": "MD",
          "hide_input_from_viewers": false,
          "hide_output_from_viewers": false,
          "report_properties": {
            "rowId": "7msxj65rsPRDUoT1NEvoGG"
          }
        },
        "id": "X_O468__diYv"
      }
    },
    {
      "cell_type": "code",
      "source": [
        "def percentile(variable):\n",
        "    two_and_half = variable.quantile(0.25)\n",
        "    ninty_seven_half = variable.quantile(0.975)\n",
        "    print('2.5 and 97.5 percentile of {} is respectively: {:0.2f}, and {:0.2f}'.format(variable.name, two_and_half, ninty_seven_half))\n",
        "\n",
        "percentile(train.pickup_latitude)\n",
        "percentile(train.dropoff_latitude)\n",
        "percentile(train.pickup_longitude)\n",
        "percentile(train.dropoff_longitude)"
      ],
      "execution_count": null,
      "outputs": [
        {
          "output_type": "stream",
          "name": "stdout",
          "text": [
            "2.5 and 97.5 percentile of pickup_latitude is respectively: 40.73, and 40.80\n",
            "2.5 and 97.5 percentile of dropoff_latitude is respectively: 40.73, and 40.81\n",
            "2.5 and 97.5 percentile of pickup_longitude is respectively: -73.99, and -73.78\n",
            "2.5 and 97.5 percentile of dropoff_longitude is respectively: -73.99, and -73.79\n"
          ]
        }
      ],
      "metadata": {
        "datalore": {
          "node_id": "FREwAGJmC1STWqkEvj39qJ",
          "type": "CODE",
          "hide_input_from_viewers": false,
          "hide_output_from_viewers": false,
          "report_properties": {
            "rowId": "aM19u7WkndsTh1zR39WDAz"
          }
        },
        "colab": {
          "base_uri": "https://localhost:8080/"
        },
        "id": "29eunUdQdiYv",
        "outputId": "acfedc30-f5ec-496a-f5bf-4012a60a7410"
      }
    },
    {
      "cell_type": "code",
      "source": [
        "train = train.loc[train.pickup_latitude.between(left = 40, right = 42), :]\n",
        "train = train.loc[train.dropoff_latitude.between(left = 40, right = 42), :]\n",
        "\n",
        "train = train.loc[train.pickup_longitude.between(left = -75, right = -72), :]\n",
        "train = train.loc[train.dropoff_longitude.between(left = -75, right = -72), :]\n",
        "print('Shape of training data after after dropping outliers from lats and lons: {}'.format(train.shape))\n",
        "\n",
        "test = test.loc[test.pickup_latitude.between(left = 40, right = 42), :]\n",
        "test = test.loc[test.dropoff_latitude.between(left = 40, right = 42), :]\n",
        "test = test.loc[test.pickup_longitude.between(left = -75, right = -72), :]\n",
        "test = test.loc[test.dropoff_longitude.between(left = -75, right = -72), :]"
      ],
      "execution_count": null,
      "outputs": [
        {
          "output_type": "stream",
          "name": "stdout",
          "text": [
            "Shape of training data after after dropping outliers from lats and lons: (783061, 7)\n"
          ]
        }
      ],
      "metadata": {
        "datalore": {
          "node_id": "TioGdJciQLCCxFjZ6ajPvp",
          "type": "CODE",
          "hide_input_from_viewers": false,
          "hide_output_from_viewers": false,
          "report_properties": {
            "rowId": "AL4fQGVGrZ8o26Iem0XdLd"
          }
        },
        "colab": {
          "base_uri": "https://localhost:8080/"
        },
        "id": "2cwhQOUbdiYw",
        "outputId": "3401ed7e-802a-43a0-ed39-c456b95443da"
      }
    },
    {
      "cell_type": "markdown",
      "source": [
        "### 3.3 Removing outliers w.r.t. passenger count"
      ],
      "metadata": {
        "datalore": {
          "node_id": "9c4mcgU63mpp1zF9VfsZvf",
          "type": "MD",
          "hide_input_from_viewers": false,
          "hide_output_from_viewers": false,
          "report_properties": {
            "rowId": "VZYvsyuxnRTYKUCzBiBWky"
          }
        },
        "id": "wG8roF4RdiYw"
      }
    },
    {
      "cell_type": "code",
      "source": [
        "passenger_count_to_drop = train.loc[(train.passenger_count > 6)].index\n",
        "train.drop(passenger_count_to_drop, axis = 0, inplace = True)\n",
        "print('Shape of training data after dropping outliers w.r.t. passenger_count:{}'.format(train.shape))\n",
        "\n",
        "passenger_count_to_drop = test.loc[(test.passenger_count > 6)].index\n",
        "test.drop(passenger_count_to_drop, axis = 0, inplace = True)\n",
        "\n",
        "display(train.passenger_count.describe())"
      ],
      "execution_count": null,
      "outputs": [
        {
          "output_type": "stream",
          "name": "stdout",
          "text": [
            "Shape of training data after dropping outliers w.r.t. passenger_count:(783061, 7)\n"
          ]
        },
        {
          "output_type": "display_data",
          "data": {
            "text/plain": [
              "count    783061.000000\n",
              "mean          1.686926\n",
              "std           1.309967\n",
              "min           0.000000\n",
              "25%           1.000000\n",
              "50%           1.000000\n",
              "75%           2.000000\n",
              "max           6.000000\n",
              "Name: passenger_count, dtype: float64"
            ],
            "text/html": [
              "<div>\n",
              "<style scoped>\n",
              "    .dataframe tbody tr th:only-of-type {\n",
              "        vertical-align: middle;\n",
              "    }\n",
              "\n",
              "    .dataframe tbody tr th {\n",
              "        vertical-align: top;\n",
              "    }\n",
              "\n",
              "    .dataframe thead th {\n",
              "        text-align: right;\n",
              "    }\n",
              "</style>\n",
              "<table border=\"1\" class=\"dataframe\">\n",
              "  <thead>\n",
              "    <tr style=\"text-align: right;\">\n",
              "      <th></th>\n",
              "      <th>passenger_count</th>\n",
              "    </tr>\n",
              "  </thead>\n",
              "  <tbody>\n",
              "    <tr>\n",
              "      <th>count</th>\n",
              "      <td>783061.000000</td>\n",
              "    </tr>\n",
              "    <tr>\n",
              "      <th>mean</th>\n",
              "      <td>1.686926</td>\n",
              "    </tr>\n",
              "    <tr>\n",
              "      <th>std</th>\n",
              "      <td>1.309967</td>\n",
              "    </tr>\n",
              "    <tr>\n",
              "      <th>min</th>\n",
              "      <td>0.000000</td>\n",
              "    </tr>\n",
              "    <tr>\n",
              "      <th>25%</th>\n",
              "      <td>1.000000</td>\n",
              "    </tr>\n",
              "    <tr>\n",
              "      <th>50%</th>\n",
              "      <td>1.000000</td>\n",
              "    </tr>\n",
              "    <tr>\n",
              "      <th>75%</th>\n",
              "      <td>2.000000</td>\n",
              "    </tr>\n",
              "    <tr>\n",
              "      <th>max</th>\n",
              "      <td>6.000000</td>\n",
              "    </tr>\n",
              "  </tbody>\n",
              "</table>\n",
              "</div><br><label><b>dtype:</b> float64</label>"
            ]
          },
          "metadata": {}
        }
      ],
      "metadata": {
        "datalore": {
          "node_id": "IUcNwiFTKSpJxERrosv8Tw",
          "type": "CODE",
          "hide_input_from_viewers": false,
          "hide_output_from_viewers": false,
          "report_properties": {
            "rowId": "LI6zvGKymG4v5dYawjGgpn"
          }
        },
        "colab": {
          "base_uri": "https://localhost:8080/",
          "height": 353
        },
        "id": "yTbb7W_5diYw",
        "outputId": "28041a96-b935-43c5-f303-ca6e4c45c962"
      }
    },
    {
      "cell_type": "markdown",
      "source": [
        "# 4. Feature Engineering"
      ],
      "metadata": {
        "datalore": {
          "node_id": "UxTHKcPIGAaZgOmppW52fW",
          "type": "MD",
          "hide_input_from_viewers": false,
          "hide_output_from_viewers": false,
          "report_properties": {
            "rowId": "L2cOcLHQSsXnZpOiTvcWNS"
          }
        },
        "id": "jt0dN3cUdiYw"
      }
    },
    {
      "cell_type": "code",
      "source": [
        "merged = pd.concat([train,test], axis = 0, sort=False)"
      ],
      "execution_count": null,
      "outputs": [],
      "metadata": {
        "datalore": {
          "node_id": "w13GFvAx57M24egRwHwY35",
          "type": "CODE",
          "hide_input_from_viewers": false,
          "hide_output_from_viewers": false,
          "report_properties": {
            "rowId": "Npi2Z6Gj6muMHhwKSWHqYM"
          }
        },
        "id": "c5R8Kr_XdiYw"
      }
    },
    {
      "cell_type": "markdown",
      "source": [
        "## 4.1 Great circle distance using haversine formula"
      ],
      "metadata": {
        "datalore": {
          "node_id": "UmbhNH3iio6FHfBcKzkzZ3",
          "type": "MD",
          "hide_input_from_viewers": false,
          "hide_output_from_viewers": false,
          "report_properties": {
            "rowId": "x1xdPJvlLlosvT0glbiCoa"
          }
        },
        "id": "xzMoRzH4diYw"
      }
    },
    {
      "cell_type": "code",
      "source": [
        "def great_circle_distance(lon1,lat1,lon2,lat2):\n",
        "    R = 6371000 # Approximate mean radius of earth (in m)\n",
        "\n",
        "    # Convert decimal degrees to ridians\n",
        "    lon1,lat1,lon2,lat2 = map(np.radians, [lon1, lat1, lon2, lat2])\n",
        "\n",
        "    # Distance of lons and lats in radians\n",
        "    dis_lon = lon2 - lon1\n",
        "    dis_lat = lat2 - lat1\n",
        "\n",
        "    # Haversine implementation\n",
        "    a = np.sin(dis_lat/2)**2 + np.cos(lat1) * np.cos(lat2) * np.sin(dis_lon/2)**2\n",
        "    c = 2*np.arctan2(np.sqrt(a), np.sqrt(1-a))\n",
        "    dis_m = R*c # Distance in meters\n",
        "    dis_km = dis_m/1000 # Distance in km\n",
        "    return dis_km\n",
        "\n",
        "merged['great_circle_distance'] = great_circle_distance(merged.pickup_longitude, merged.pickup_latitude, merged.dropoff_longitude, merged.dropoff_latitude)"
      ],
      "execution_count": null,
      "outputs": [],
      "metadata": {
        "datalore": {
          "node_id": "JJ9ks12OGJ8SatfVCf9khK",
          "type": "CODE",
          "hide_input_from_viewers": false,
          "hide_output_from_viewers": false,
          "report_properties": {
            "rowId": "1Ge2N3zp3qaAjpobOvapKM"
          }
        },
        "id": "A6ysT7tydiYw"
      }
    },
    {
      "cell_type": "markdown",
      "source": [
        "## 4.2 Euclidean distance"
      ],
      "metadata": {
        "datalore": {
          "node_id": "H5psepL8RTz8fPrrfNGUPN",
          "type": "MD",
          "hide_input_from_viewers": false,
          "hide_output_from_viewers": false,
          "report_properties": {
            "rowId": "WjZ7BC0faVYsAxeFBUoOew"
          }
        },
        "id": "zb-STDHZdiYx"
      }
    },
    {
      "cell_type": "code",
      "source": [
        "# Convert lons and lats into cartesian coordinates. Assume the earth as sphere not ellipsoid\n",
        "R = 6371000 # Approximate mean radius of earth (in m)\n",
        "# lons and lats must be in radians\n",
        "lon1,lat1,lon2,lat2 = map(np.radians, [merged.pickup_longitude, merged.pickup_latitude, merged.dropoff_longitude, merged.dropoff_latitude])\n",
        "merged['pickup_x'] = R*np.cos(lon1)*np.cos(lat1)\n",
        "merged['pickup_y'] = R*np.sin(lon1)*np.cos(lat1)\n",
        "merged['dropoff_x'] = R*np.cos(lon2)*np.cos(lat2)\n",
        "merged['dropoff_y'] = R*np.sin(lon2)*np.cos(lat2)\n",
        "\n",
        "# Now calculate the euclidean distance\n",
        "x1 = merged['pickup_x']\n",
        "y1 = merged['pickup_y']\n",
        "x2 = merged['dropoff_x']\n",
        "y2 = merged['dropoff_y']\n",
        "merged['euclidean_distance'] = (np.sqrt(( x1 - x2)**2 + ( y1 - y2)**2))/1000 # in km"
      ],
      "execution_count": null,
      "outputs": [],
      "metadata": {
        "datalore": {
          "node_id": "4HuCBwi2GMRv1DmpMj4ra3",
          "type": "CODE",
          "hide_input_from_viewers": false,
          "hide_output_from_viewers": false,
          "report_properties": {
            "rowId": "TXSby1rGvaTxRKolSltAwx"
          }
        },
        "id": "SttyOtUPdiYx"
      }
    },
    {
      "cell_type": "markdown",
      "source": [
        "## 4.3 Manhattan distance"
      ],
      "metadata": {
        "datalore": {
          "node_id": "4zyRv8H5fW4vdrVUqPY3IK",
          "type": "MD",
          "hide_input_from_viewers": false,
          "hide_output_from_viewers": false,
          "report_properties": {
            "rowId": "Cgq9aL3j9tLdnC8MywVNiZ"
          }
        },
        "id": "c_xPG_BDdiYx"
      }
    },
    {
      "cell_type": "code",
      "source": [
        "merged['manhattan_distance'] = (np.abs(x1 - x2) + np.abs(y1 - y2))/1000 # in km"
      ],
      "execution_count": null,
      "outputs": [],
      "metadata": {
        "datalore": {
          "node_id": "x6n4H39MG3ZspSCLozeMS0",
          "type": "CODE",
          "hide_input_from_viewers": false,
          "hide_output_from_viewers": false,
          "report_properties": {
            "rowId": "wxTabbx5ClFmIdtlhd7z9q"
          }
        },
        "id": "qAAX7xVydiYx"
      }
    },
    {
      "cell_type": "markdown",
      "source": [
        "## 4.4 Find pickup hour/day/date/month/year"
      ],
      "metadata": {
        "datalore": {
          "node_id": "kZWODUxBvL4Vw1M6fwRjT5",
          "type": "MD",
          "hide_input_from_viewers": false,
          "hide_output_from_viewers": false,
          "report_properties": {
            "rowId": "tbQsHnUiXMesAAqOuoThy2"
          }
        },
        "id": "DTohr-iOdiYx"
      }
    },
    {
      "cell_type": "code",
      "source": [
        "merged['pickup_hour'] = merged.pickup_datetime.dt.hour\n",
        "merged['pickup_date'] =  merged.pickup_datetime.dt.day\n",
        "merged['pickup_day_of_week'] =  merged.pickup_datetime.dt.dayofweek\n",
        "merged['pickup_month'] =  merged.pickup_datetime.dt.month\n",
        "merged['pickup_year'] =  merged.pickup_datetime.dt.year"
      ],
      "execution_count": null,
      "outputs": [],
      "metadata": {
        "datalore": {
          "node_id": "PoLcahlzC3snNXPz63zzHF",
          "type": "CODE",
          "hide_input_from_viewers": false,
          "hide_output_from_viewers": false,
          "report_properties": {
            "rowId": "kEfmxxKTusGKyQi6BD5rwm"
          }
        },
        "id": "Z7W5Bu8cdiYx"
      }
    },
    {
      "cell_type": "code",
      "source": [
        "merged.drop(['pickup_datetime'], axis = 1, inplace = True)"
      ],
      "execution_count": null,
      "outputs": [],
      "metadata": {
        "datalore": {
          "node_id": "N1iAv0u3XaChFSD2PJHrmo",
          "type": "CODE",
          "hide_input_from_viewers": false,
          "hide_output_from_viewers": false,
          "report_properties": {
            "rowId": "aLjl7Jjyki5rpeQhcHqVWz"
          }
        },
        "id": "Fe9-PwDxdiYx"
      }
    },
    {
      "cell_type": "markdown",
      "source": [
        "## 4.5 Alignment"
      ],
      "metadata": {
        "datalore": {
          "node_id": "C65zBoZKlPcRicXxCrlxbL",
          "type": "MD",
          "hide_input_from_viewers": false,
          "hide_output_from_viewers": false,
          "report_properties": {
            "rowId": "wReUMjbnI1mbHV7wjxRc3f"
          }
        },
        "id": "N0e5dai-diYx"
      }
    },
    {
      "cell_type": "code",
      "source": [
        "train_df = merged.iloc[:train.shape[0], :]\n",
        "test_df = merged.iloc[train.shape[0]:, :]"
      ],
      "execution_count": null,
      "outputs": [],
      "metadata": {
        "datalore": {
          "node_id": "fpvkkLoD872u5O4N0Y6JK5",
          "type": "CODE",
          "hide_input_from_viewers": false,
          "hide_output_from_viewers": false,
          "report_properties": {
            "rowId": "0gO7eefIvOQ7r6CohH5nAx"
          }
        },
        "id": "4O5ZetNrdiYx"
      }
    },
    {
      "cell_type": "code",
      "source": [
        "train_df"
      ],
      "execution_count": null,
      "outputs": [
        {
          "output_type": "execute_result",
          "data": {
            "text/plain": [
              "        fare_amount  pickup_longitude  pickup_latitude  dropoff_longitude  \\\n",
              "0              22.5         -73.99959        40.714508         -73.914310   \n",
              "1               8.5         -73.99823        40.760864         -73.989150   \n",
              "2              14.1         -73.99050        40.759070         -73.987946   \n",
              "3              10.1         -73.98430        40.761910         -73.973080   \n",
              "4               4.1         -73.94736        40.776060         -73.955940   \n",
              "...             ...               ...              ...                ...   \n",
              "799995          5.7         -73.99573        40.749462         -74.001960   \n",
              "799996          5.7         -74.00521        40.721390         -73.993130   \n",
              "799997         30.1         -73.99741        40.736557         -73.960570   \n",
              "799998          7.5         -73.96102        40.760590         -73.951310   \n",
              "799999          5.3         -74.01001        40.720036         -74.011660   \n",
              "\n",
              "        dropoff_latitude  passenger_count  great_circle_distance  \\\n",
              "0              40.685000                4               7.902551   \n",
              "1              40.743465                1               2.080381   \n",
              "2              40.761450                2               0.341040   \n",
              "3              40.748734                1               1.743469   \n",
              "4              40.779636                5               0.824653   \n",
              "...                  ...              ...                    ...   \n",
              "799995         40.732582                1               1.948976   \n",
              "799996         40.732407                3               1.592769   \n",
              "799997         40.636090                3              11.595239   \n",
              "799998         40.782230                1               2.541394   \n",
              "799999         40.707990                1               1.346654   \n",
              "\n",
              "            pickup_x      pickup_y     dropoff_x     dropoff_y  \\\n",
              "0       1.331092e+06 -4.641944e+06  1.338593e+06 -4.642014e+06   \n",
              "1       1.330275e+06 -4.638679e+06  1.331358e+06 -4.639682e+06   \n",
              "2       1.330937e+06 -4.638625e+06  1.331096e+06 -4.638399e+06   \n",
              "3       1.331382e+06 -4.638282e+06  1.332554e+06 -4.638941e+06   \n",
              "4       1.334088e+06 -4.636436e+06  1.333322e+06 -4.636386e+06   \n",
              "...              ...           ...           ...           ...   \n",
              "799995  1.330705e+06 -4.639417e+06  1.330539e+06 -4.640739e+06   \n",
              "799996  1.330499e+06 -4.641595e+06  1.331257e+06 -4.640546e+06   \n",
              "799997  1.330828e+06 -4.640356e+06  1.335823e+06 -4.646499e+06   \n",
              "799998  1.333293e+06 -4.637833e+06  1.333644e+06 -4.636097e+06   \n",
              "799999  1.330137e+06 -4.641801e+06  1.330244e+06 -4.642679e+06   \n",
              "\n",
              "        euclidean_distance  manhattan_distance  pickup_hour  pickup_date  \\\n",
              "0                 7.500826            7.569989           23           30   \n",
              "1                 1.476484            2.086517           10           23   \n",
              "2                 0.275910            0.384521           10           13   \n",
              "3                 1.344610            1.830820           14            5   \n",
              "4                 0.767715            0.815957           13           17   \n",
              "...                    ...                 ...          ...          ...   \n",
              "799995            1.332698            1.489069            8           20   \n",
              "799996            1.294238            1.807091           20           25   \n",
              "799997            7.917622           11.138299           22            7   \n",
              "799998            1.771403            2.087714           18           26   \n",
              "799999            0.884703            0.985190           21           25   \n",
              "\n",
              "        pickup_day_of_week  pickup_month  pickup_year  \n",
              "0                        3             5         2013  \n",
              "1                        6             9         2012  \n",
              "2                        2             4         2011  \n",
              "3                        1             6         2012  \n",
              "4                        3            12         2009  \n",
              "...                    ...           ...          ...  \n",
              "799995                   0             6         2011  \n",
              "799996                   5             7         2009  \n",
              "799997                   1             2         2012  \n",
              "799998                   4            10         2012  \n",
              "799999                   2             1         2012  \n",
              "\n",
              "[783061 rows x 18 columns]"
            ],
            "text/html": [
              "\n",
              "  <div id=\"df-76f88578-7199-4b48-9878-171da2b08212\" class=\"colab-df-container\">\n",
              "    <div>\n",
              "<style scoped>\n",
              "    .dataframe tbody tr th:only-of-type {\n",
              "        vertical-align: middle;\n",
              "    }\n",
              "\n",
              "    .dataframe tbody tr th {\n",
              "        vertical-align: top;\n",
              "    }\n",
              "\n",
              "    .dataframe thead th {\n",
              "        text-align: right;\n",
              "    }\n",
              "</style>\n",
              "<table border=\"1\" class=\"dataframe\">\n",
              "  <thead>\n",
              "    <tr style=\"text-align: right;\">\n",
              "      <th></th>\n",
              "      <th>fare_amount</th>\n",
              "      <th>pickup_longitude</th>\n",
              "      <th>pickup_latitude</th>\n",
              "      <th>dropoff_longitude</th>\n",
              "      <th>dropoff_latitude</th>\n",
              "      <th>passenger_count</th>\n",
              "      <th>great_circle_distance</th>\n",
              "      <th>pickup_x</th>\n",
              "      <th>pickup_y</th>\n",
              "      <th>dropoff_x</th>\n",
              "      <th>dropoff_y</th>\n",
              "      <th>euclidean_distance</th>\n",
              "      <th>manhattan_distance</th>\n",
              "      <th>pickup_hour</th>\n",
              "      <th>pickup_date</th>\n",
              "      <th>pickup_day_of_week</th>\n",
              "      <th>pickup_month</th>\n",
              "      <th>pickup_year</th>\n",
              "    </tr>\n",
              "  </thead>\n",
              "  <tbody>\n",
              "    <tr>\n",
              "      <th>0</th>\n",
              "      <td>22.5</td>\n",
              "      <td>-73.99959</td>\n",
              "      <td>40.714508</td>\n",
              "      <td>-73.914310</td>\n",
              "      <td>40.685000</td>\n",
              "      <td>4</td>\n",
              "      <td>7.902551</td>\n",
              "      <td>1.331092e+06</td>\n",
              "      <td>-4.641944e+06</td>\n",
              "      <td>1.338593e+06</td>\n",
              "      <td>-4.642014e+06</td>\n",
              "      <td>7.500826</td>\n",
              "      <td>7.569989</td>\n",
              "      <td>23</td>\n",
              "      <td>30</td>\n",
              "      <td>3</td>\n",
              "      <td>5</td>\n",
              "      <td>2013</td>\n",
              "    </tr>\n",
              "    <tr>\n",
              "      <th>1</th>\n",
              "      <td>8.5</td>\n",
              "      <td>-73.99823</td>\n",
              "      <td>40.760864</td>\n",
              "      <td>-73.989150</td>\n",
              "      <td>40.743465</td>\n",
              "      <td>1</td>\n",
              "      <td>2.080381</td>\n",
              "      <td>1.330275e+06</td>\n",
              "      <td>-4.638679e+06</td>\n",
              "      <td>1.331358e+06</td>\n",
              "      <td>-4.639682e+06</td>\n",
              "      <td>1.476484</td>\n",
              "      <td>2.086517</td>\n",
              "      <td>10</td>\n",
              "      <td>23</td>\n",
              "      <td>6</td>\n",
              "      <td>9</td>\n",
              "      <td>2012</td>\n",
              "    </tr>\n",
              "    <tr>\n",
              "      <th>2</th>\n",
              "      <td>14.1</td>\n",
              "      <td>-73.99050</td>\n",
              "      <td>40.759070</td>\n",
              "      <td>-73.987946</td>\n",
              "      <td>40.761450</td>\n",
              "      <td>2</td>\n",
              "      <td>0.341040</td>\n",
              "      <td>1.330937e+06</td>\n",
              "      <td>-4.638625e+06</td>\n",
              "      <td>1.331096e+06</td>\n",
              "      <td>-4.638399e+06</td>\n",
              "      <td>0.275910</td>\n",
              "      <td>0.384521</td>\n",
              "      <td>10</td>\n",
              "      <td>13</td>\n",
              "      <td>2</td>\n",
              "      <td>4</td>\n",
              "      <td>2011</td>\n",
              "    </tr>\n",
              "    <tr>\n",
              "      <th>3</th>\n",
              "      <td>10.1</td>\n",
              "      <td>-73.98430</td>\n",
              "      <td>40.761910</td>\n",
              "      <td>-73.973080</td>\n",
              "      <td>40.748734</td>\n",
              "      <td>1</td>\n",
              "      <td>1.743469</td>\n",
              "      <td>1.331382e+06</td>\n",
              "      <td>-4.638282e+06</td>\n",
              "      <td>1.332554e+06</td>\n",
              "      <td>-4.638941e+06</td>\n",
              "      <td>1.344610</td>\n",
              "      <td>1.830820</td>\n",
              "      <td>14</td>\n",
              "      <td>5</td>\n",
              "      <td>1</td>\n",
              "      <td>6</td>\n",
              "      <td>2012</td>\n",
              "    </tr>\n",
              "    <tr>\n",
              "      <th>4</th>\n",
              "      <td>4.1</td>\n",
              "      <td>-73.94736</td>\n",
              "      <td>40.776060</td>\n",
              "      <td>-73.955940</td>\n",
              "      <td>40.779636</td>\n",
              "      <td>5</td>\n",
              "      <td>0.824653</td>\n",
              "      <td>1.334088e+06</td>\n",
              "      <td>-4.636436e+06</td>\n",
              "      <td>1.333322e+06</td>\n",
              "      <td>-4.636386e+06</td>\n",
              "      <td>0.767715</td>\n",
              "      <td>0.815957</td>\n",
              "      <td>13</td>\n",
              "      <td>17</td>\n",
              "      <td>3</td>\n",
              "      <td>12</td>\n",
              "      <td>2009</td>\n",
              "    </tr>\n",
              "    <tr>\n",
              "      <th>...</th>\n",
              "      <td>...</td>\n",
              "      <td>...</td>\n",
              "      <td>...</td>\n",
              "      <td>...</td>\n",
              "      <td>...</td>\n",
              "      <td>...</td>\n",
              "      <td>...</td>\n",
              "      <td>...</td>\n",
              "      <td>...</td>\n",
              "      <td>...</td>\n",
              "      <td>...</td>\n",
              "      <td>...</td>\n",
              "      <td>...</td>\n",
              "      <td>...</td>\n",
              "      <td>...</td>\n",
              "      <td>...</td>\n",
              "      <td>...</td>\n",
              "      <td>...</td>\n",
              "    </tr>\n",
              "    <tr>\n",
              "      <th>799995</th>\n",
              "      <td>5.7</td>\n",
              "      <td>-73.99573</td>\n",
              "      <td>40.749462</td>\n",
              "      <td>-74.001960</td>\n",
              "      <td>40.732582</td>\n",
              "      <td>1</td>\n",
              "      <td>1.948976</td>\n",
              "      <td>1.330705e+06</td>\n",
              "      <td>-4.639417e+06</td>\n",
              "      <td>1.330539e+06</td>\n",
              "      <td>-4.640739e+06</td>\n",
              "      <td>1.332698</td>\n",
              "      <td>1.489069</td>\n",
              "      <td>8</td>\n",
              "      <td>20</td>\n",
              "      <td>0</td>\n",
              "      <td>6</td>\n",
              "      <td>2011</td>\n",
              "    </tr>\n",
              "    <tr>\n",
              "      <th>799996</th>\n",
              "      <td>5.7</td>\n",
              "      <td>-74.00521</td>\n",
              "      <td>40.721390</td>\n",
              "      <td>-73.993130</td>\n",
              "      <td>40.732407</td>\n",
              "      <td>3</td>\n",
              "      <td>1.592769</td>\n",
              "      <td>1.330499e+06</td>\n",
              "      <td>-4.641595e+06</td>\n",
              "      <td>1.331257e+06</td>\n",
              "      <td>-4.640546e+06</td>\n",
              "      <td>1.294238</td>\n",
              "      <td>1.807091</td>\n",
              "      <td>20</td>\n",
              "      <td>25</td>\n",
              "      <td>5</td>\n",
              "      <td>7</td>\n",
              "      <td>2009</td>\n",
              "    </tr>\n",
              "    <tr>\n",
              "      <th>799997</th>\n",
              "      <td>30.1</td>\n",
              "      <td>-73.99741</td>\n",
              "      <td>40.736557</td>\n",
              "      <td>-73.960570</td>\n",
              "      <td>40.636090</td>\n",
              "      <td>3</td>\n",
              "      <td>11.595239</td>\n",
              "      <td>1.330828e+06</td>\n",
              "      <td>-4.640356e+06</td>\n",
              "      <td>1.335823e+06</td>\n",
              "      <td>-4.646499e+06</td>\n",
              "      <td>7.917622</td>\n",
              "      <td>11.138299</td>\n",
              "      <td>22</td>\n",
              "      <td>7</td>\n",
              "      <td>1</td>\n",
              "      <td>2</td>\n",
              "      <td>2012</td>\n",
              "    </tr>\n",
              "    <tr>\n",
              "      <th>799998</th>\n",
              "      <td>7.5</td>\n",
              "      <td>-73.96102</td>\n",
              "      <td>40.760590</td>\n",
              "      <td>-73.951310</td>\n",
              "      <td>40.782230</td>\n",
              "      <td>1</td>\n",
              "      <td>2.541394</td>\n",
              "      <td>1.333293e+06</td>\n",
              "      <td>-4.637833e+06</td>\n",
              "      <td>1.333644e+06</td>\n",
              "      <td>-4.636097e+06</td>\n",
              "      <td>1.771403</td>\n",
              "      <td>2.087714</td>\n",
              "      <td>18</td>\n",
              "      <td>26</td>\n",
              "      <td>4</td>\n",
              "      <td>10</td>\n",
              "      <td>2012</td>\n",
              "    </tr>\n",
              "    <tr>\n",
              "      <th>799999</th>\n",
              "      <td>5.3</td>\n",
              "      <td>-74.01001</td>\n",
              "      <td>40.720036</td>\n",
              "      <td>-74.011660</td>\n",
              "      <td>40.707990</td>\n",
              "      <td>1</td>\n",
              "      <td>1.346654</td>\n",
              "      <td>1.330137e+06</td>\n",
              "      <td>-4.641801e+06</td>\n",
              "      <td>1.330244e+06</td>\n",
              "      <td>-4.642679e+06</td>\n",
              "      <td>0.884703</td>\n",
              "      <td>0.985190</td>\n",
              "      <td>21</td>\n",
              "      <td>25</td>\n",
              "      <td>2</td>\n",
              "      <td>1</td>\n",
              "      <td>2012</td>\n",
              "    </tr>\n",
              "  </tbody>\n",
              "</table>\n",
              "<p>783061 rows × 18 columns</p>\n",
              "</div>\n",
              "    <div class=\"colab-df-buttons\">\n",
              "\n",
              "  <div class=\"colab-df-container\">\n",
              "    <button class=\"colab-df-convert\" onclick=\"convertToInteractive('df-76f88578-7199-4b48-9878-171da2b08212')\"\n",
              "            title=\"Convert this dataframe to an interactive table.\"\n",
              "            style=\"display:none;\">\n",
              "\n",
              "  <svg xmlns=\"http://www.w3.org/2000/svg\" height=\"24px\" viewBox=\"0 -960 960 960\">\n",
              "    <path d=\"M120-120v-720h720v720H120Zm60-500h600v-160H180v160Zm220 220h160v-160H400v160Zm0 220h160v-160H400v160ZM180-400h160v-160H180v160Zm440 0h160v-160H620v160ZM180-180h160v-160H180v160Zm440 0h160v-160H620v160Z\"/>\n",
              "  </svg>\n",
              "    </button>\n",
              "\n",
              "  <style>\n",
              "    .colab-df-container {\n",
              "      display:flex;\n",
              "      gap: 12px;\n",
              "    }\n",
              "\n",
              "    .colab-df-convert {\n",
              "      background-color: #E8F0FE;\n",
              "      border: none;\n",
              "      border-radius: 50%;\n",
              "      cursor: pointer;\n",
              "      display: none;\n",
              "      fill: #1967D2;\n",
              "      height: 32px;\n",
              "      padding: 0 0 0 0;\n",
              "      width: 32px;\n",
              "    }\n",
              "\n",
              "    .colab-df-convert:hover {\n",
              "      background-color: #E2EBFA;\n",
              "      box-shadow: 0px 1px 2px rgba(60, 64, 67, 0.3), 0px 1px 3px 1px rgba(60, 64, 67, 0.15);\n",
              "      fill: #174EA6;\n",
              "    }\n",
              "\n",
              "    .colab-df-buttons div {\n",
              "      margin-bottom: 4px;\n",
              "    }\n",
              "\n",
              "    [theme=dark] .colab-df-convert {\n",
              "      background-color: #3B4455;\n",
              "      fill: #D2E3FC;\n",
              "    }\n",
              "\n",
              "    [theme=dark] .colab-df-convert:hover {\n",
              "      background-color: #434B5C;\n",
              "      box-shadow: 0px 1px 3px 1px rgba(0, 0, 0, 0.15);\n",
              "      filter: drop-shadow(0px 1px 2px rgba(0, 0, 0, 0.3));\n",
              "      fill: #FFFFFF;\n",
              "    }\n",
              "  </style>\n",
              "\n",
              "    <script>\n",
              "      const buttonEl =\n",
              "        document.querySelector('#df-76f88578-7199-4b48-9878-171da2b08212 button.colab-df-convert');\n",
              "      buttonEl.style.display =\n",
              "        google.colab.kernel.accessAllowed ? 'block' : 'none';\n",
              "\n",
              "      async function convertToInteractive(key) {\n",
              "        const element = document.querySelector('#df-76f88578-7199-4b48-9878-171da2b08212');\n",
              "        const dataTable =\n",
              "          await google.colab.kernel.invokeFunction('convertToInteractive',\n",
              "                                                    [key], {});\n",
              "        if (!dataTable) return;\n",
              "\n",
              "        const docLinkHtml = 'Like what you see? Visit the ' +\n",
              "          '<a target=\"_blank\" href=https://colab.research.google.com/notebooks/data_table.ipynb>data table notebook</a>'\n",
              "          + ' to learn more about interactive tables.';\n",
              "        element.innerHTML = '';\n",
              "        dataTable['output_type'] = 'display_data';\n",
              "        await google.colab.output.renderOutput(dataTable, element);\n",
              "        const docLink = document.createElement('div');\n",
              "        docLink.innerHTML = docLinkHtml;\n",
              "        element.appendChild(docLink);\n",
              "      }\n",
              "    </script>\n",
              "  </div>\n",
              "\n",
              "\n",
              "<div id=\"df-1c17af59-11d4-4f5f-9f36-ed04668e5764\">\n",
              "  <button class=\"colab-df-quickchart\" onclick=\"quickchart('df-1c17af59-11d4-4f5f-9f36-ed04668e5764')\"\n",
              "            title=\"Suggest charts\"\n",
              "            style=\"display:none;\">\n",
              "\n",
              "<svg xmlns=\"http://www.w3.org/2000/svg\" height=\"24px\"viewBox=\"0 0 24 24\"\n",
              "     width=\"24px\">\n",
              "    <g>\n",
              "        <path d=\"M19 3H5c-1.1 0-2 .9-2 2v14c0 1.1.9 2 2 2h14c1.1 0 2-.9 2-2V5c0-1.1-.9-2-2-2zM9 17H7v-7h2v7zm4 0h-2V7h2v10zm4 0h-2v-4h2v4z\"/>\n",
              "    </g>\n",
              "</svg>\n",
              "  </button>\n",
              "\n",
              "<style>\n",
              "  .colab-df-quickchart {\n",
              "      --bg-color: #E8F0FE;\n",
              "      --fill-color: #1967D2;\n",
              "      --hover-bg-color: #E2EBFA;\n",
              "      --hover-fill-color: #174EA6;\n",
              "      --disabled-fill-color: #AAA;\n",
              "      --disabled-bg-color: #DDD;\n",
              "  }\n",
              "\n",
              "  [theme=dark] .colab-df-quickchart {\n",
              "      --bg-color: #3B4455;\n",
              "      --fill-color: #D2E3FC;\n",
              "      --hover-bg-color: #434B5C;\n",
              "      --hover-fill-color: #FFFFFF;\n",
              "      --disabled-bg-color: #3B4455;\n",
              "      --disabled-fill-color: #666;\n",
              "  }\n",
              "\n",
              "  .colab-df-quickchart {\n",
              "    background-color: var(--bg-color);\n",
              "    border: none;\n",
              "    border-radius: 50%;\n",
              "    cursor: pointer;\n",
              "    display: none;\n",
              "    fill: var(--fill-color);\n",
              "    height: 32px;\n",
              "    padding: 0;\n",
              "    width: 32px;\n",
              "  }\n",
              "\n",
              "  .colab-df-quickchart:hover {\n",
              "    background-color: var(--hover-bg-color);\n",
              "    box-shadow: 0 1px 2px rgba(60, 64, 67, 0.3), 0 1px 3px 1px rgba(60, 64, 67, 0.15);\n",
              "    fill: var(--button-hover-fill-color);\n",
              "  }\n",
              "\n",
              "  .colab-df-quickchart-complete:disabled,\n",
              "  .colab-df-quickchart-complete:disabled:hover {\n",
              "    background-color: var(--disabled-bg-color);\n",
              "    fill: var(--disabled-fill-color);\n",
              "    box-shadow: none;\n",
              "  }\n",
              "\n",
              "  .colab-df-spinner {\n",
              "    border: 2px solid var(--fill-color);\n",
              "    border-color: transparent;\n",
              "    border-bottom-color: var(--fill-color);\n",
              "    animation:\n",
              "      spin 1s steps(1) infinite;\n",
              "  }\n",
              "\n",
              "  @keyframes spin {\n",
              "    0% {\n",
              "      border-color: transparent;\n",
              "      border-bottom-color: var(--fill-color);\n",
              "      border-left-color: var(--fill-color);\n",
              "    }\n",
              "    20% {\n",
              "      border-color: transparent;\n",
              "      border-left-color: var(--fill-color);\n",
              "      border-top-color: var(--fill-color);\n",
              "    }\n",
              "    30% {\n",
              "      border-color: transparent;\n",
              "      border-left-color: var(--fill-color);\n",
              "      border-top-color: var(--fill-color);\n",
              "      border-right-color: var(--fill-color);\n",
              "    }\n",
              "    40% {\n",
              "      border-color: transparent;\n",
              "      border-right-color: var(--fill-color);\n",
              "      border-top-color: var(--fill-color);\n",
              "    }\n",
              "    60% {\n",
              "      border-color: transparent;\n",
              "      border-right-color: var(--fill-color);\n",
              "    }\n",
              "    80% {\n",
              "      border-color: transparent;\n",
              "      border-right-color: var(--fill-color);\n",
              "      border-bottom-color: var(--fill-color);\n",
              "    }\n",
              "    90% {\n",
              "      border-color: transparent;\n",
              "      border-bottom-color: var(--fill-color);\n",
              "    }\n",
              "  }\n",
              "</style>\n",
              "\n",
              "  <script>\n",
              "    async function quickchart(key) {\n",
              "      const quickchartButtonEl =\n",
              "        document.querySelector('#' + key + ' button');\n",
              "      quickchartButtonEl.disabled = true;  // To prevent multiple clicks.\n",
              "      quickchartButtonEl.classList.add('colab-df-spinner');\n",
              "      try {\n",
              "        const charts = await google.colab.kernel.invokeFunction(\n",
              "            'suggestCharts', [key], {});\n",
              "      } catch (error) {\n",
              "        console.error('Error during call to suggestCharts:', error);\n",
              "      }\n",
              "      quickchartButtonEl.classList.remove('colab-df-spinner');\n",
              "      quickchartButtonEl.classList.add('colab-df-quickchart-complete');\n",
              "    }\n",
              "    (() => {\n",
              "      let quickchartButtonEl =\n",
              "        document.querySelector('#df-1c17af59-11d4-4f5f-9f36-ed04668e5764 button');\n",
              "      quickchartButtonEl.style.display =\n",
              "        google.colab.kernel.accessAllowed ? 'block' : 'none';\n",
              "    })();\n",
              "  </script>\n",
              "</div>\n",
              "\n",
              "  <div id=\"id_7a184b3e-bed9-47cd-b433-253d7ae62fd2\">\n",
              "    <style>\n",
              "      .colab-df-generate {\n",
              "        background-color: #E8F0FE;\n",
              "        border: none;\n",
              "        border-radius: 50%;\n",
              "        cursor: pointer;\n",
              "        display: none;\n",
              "        fill: #1967D2;\n",
              "        height: 32px;\n",
              "        padding: 0 0 0 0;\n",
              "        width: 32px;\n",
              "      }\n",
              "\n",
              "      .colab-df-generate:hover {\n",
              "        background-color: #E2EBFA;\n",
              "        box-shadow: 0px 1px 2px rgba(60, 64, 67, 0.3), 0px 1px 3px 1px rgba(60, 64, 67, 0.15);\n",
              "        fill: #174EA6;\n",
              "      }\n",
              "\n",
              "      [theme=dark] .colab-df-generate {\n",
              "        background-color: #3B4455;\n",
              "        fill: #D2E3FC;\n",
              "      }\n",
              "\n",
              "      [theme=dark] .colab-df-generate:hover {\n",
              "        background-color: #434B5C;\n",
              "        box-shadow: 0px 1px 3px 1px rgba(0, 0, 0, 0.15);\n",
              "        filter: drop-shadow(0px 1px 2px rgba(0, 0, 0, 0.3));\n",
              "        fill: #FFFFFF;\n",
              "      }\n",
              "    </style>\n",
              "    <button class=\"colab-df-generate\" onclick=\"generateWithVariable('train_df')\"\n",
              "            title=\"Generate code using this dataframe.\"\n",
              "            style=\"display:none;\">\n",
              "\n",
              "  <svg xmlns=\"http://www.w3.org/2000/svg\" height=\"24px\"viewBox=\"0 0 24 24\"\n",
              "       width=\"24px\">\n",
              "    <path d=\"M7,19H8.4L18.45,9,17,7.55,7,17.6ZM5,21V16.75L18.45,3.32a2,2,0,0,1,2.83,0l1.4,1.43a1.91,1.91,0,0,1,.58,1.4,1.91,1.91,0,0,1-.58,1.4L9.25,21ZM18.45,9,17,7.55Zm-12,3A5.31,5.31,0,0,0,4.9,8.1,5.31,5.31,0,0,0,1,6.5,5.31,5.31,0,0,0,4.9,4.9,5.31,5.31,0,0,0,6.5,1,5.31,5.31,0,0,0,8.1,4.9,5.31,5.31,0,0,0,12,6.5,5.46,5.46,0,0,0,6.5,12Z\"/>\n",
              "  </svg>\n",
              "    </button>\n",
              "    <script>\n",
              "      (() => {\n",
              "      const buttonEl =\n",
              "        document.querySelector('#id_7a184b3e-bed9-47cd-b433-253d7ae62fd2 button.colab-df-generate');\n",
              "      buttonEl.style.display =\n",
              "        google.colab.kernel.accessAllowed ? 'block' : 'none';\n",
              "\n",
              "      buttonEl.onclick = () => {\n",
              "        google.colab.notebook.generateWithVariable('train_df');\n",
              "      }\n",
              "      })();\n",
              "    </script>\n",
              "  </div>\n",
              "\n",
              "    </div>\n",
              "  </div>\n"
            ],
            "application/vnd.google.colaboratory.intrinsic+json": {
              "type": "dataframe",
              "variable_name": "train_df"
            }
          },
          "metadata": {},
          "execution_count": 34
        }
      ],
      "metadata": {
        "datalore": {
          "node_id": "I1K4dcCFx6vTWLrKT91ERt",
          "type": "CODE",
          "hide_input_from_viewers": false,
          "hide_output_from_viewers": false,
          "report_properties": {
            "rowId": "njeciIjM9rRT27rXeIAKgv"
          }
        },
        "colab": {
          "base_uri": "https://localhost:8080/",
          "height": 444
        },
        "id": "pkbwUSUHdiYx",
        "outputId": "15de5c0f-7c9b-4c22-e4e9-0ab542c07473"
      }
    },
    {
      "cell_type": "markdown",
      "source": [
        "# 5. Linear Regression via Successive Orthogonalization"
      ],
      "metadata": {
        "datalore": {
          "node_id": "pzCpjB4voiIp0bT94BqjNN",
          "type": "MD",
          "hide_input_from_viewers": true,
          "hide_output_from_viewers": true
        },
        "id": "ZcqPmChLdiYx"
      }
    },
    {
      "cell_type": "code",
      "source": [
        "y_train = train_df.fare_amount\n",
        "X_train = train_df.drop(['fare_amount'], axis = 1)\n",
        "y_test = test_df.fare_amount\n",
        "X_test = test_df.drop(['fare_amount'], axis = 1)"
      ],
      "metadata": {
        "id": "g7n5UtgQf2te"
      },
      "execution_count": 39,
      "outputs": []
    },
    {
      "cell_type": "code",
      "source": [
        "from sklearn.metrics import mean_squared_error\n",
        "\n",
        "def successive_orthogonalization(X_train, y_train, X_test, y_test):\n",
        "    n_samples_train, n_features = X_train.shape\n",
        "    n_samples_test = X_test.shape[0]\n",
        "\n",
        "    coefficients = {}\n",
        "    rmses = {}\n",
        "    residuals = y_train.copy()\n",
        "\n",
        "    feature_names = X_train.columns\n",
        "    X_train_np = X_train.values\n",
        "    X_test_np = X_test.values\n",
        "    y_test_np = y_test.values\n",
        "\n",
        "    # Storage for orthogonalized features\n",
        "    Z_train = np.zeros_like(X_train_np)\n",
        "    Z_test = np.zeros_like(X_test_np)\n",
        "\n",
        "    for i in range(n_features):\n",
        "        feature_name = feature_names[i]\n",
        "        x_i_train = X_train_np[:, i].copy()\n",
        "        x_i_test = X_test_np[:, i].copy()  # Keep test feature for transformation\n",
        "\n",
        "        # Orthogonalization\n",
        "        for j in range(i):\n",
        "            x_j_train = Z_train[:, j]  # Use previously orthogonalized feature\n",
        "            x_j_test = Z_test[:, j]  # Use the same transformation on test data\n",
        "\n",
        "            # Compute projection coefficient (scalar)\n",
        "            proj_coeff = np.dot(x_i_train, x_j_train) / np.dot(x_j_train, x_j_train)\n",
        "\n",
        "            # Apply projection to both train and test\n",
        "            x_i_train -= proj_coeff * x_j_train\n",
        "            x_i_test -= proj_coeff * x_j_test  # Correct shape alignment\n",
        "\n",
        "        # Store orthogonalized feature\n",
        "        Z_train[:, i] = x_i_train\n",
        "        Z_test[:, i] = x_i_test\n",
        "\n",
        "        # Compute regression coefficient\n",
        "        coefficient = np.dot(x_i_train, residuals) / np.dot(x_i_train, x_i_train)\n",
        "        residuals -= coefficient * x_i_train  # Update residuals\n",
        "        coefficients[feature_name] = coefficient\n",
        "\n",
        "        # Compute RMSE using test set predictions\n",
        "        y_pred_test = np.dot(Z_test[:, :i+1], np.array(list(coefficients.values())))\n",
        "        rmse = np.sqrt(mean_squared_error(y_test_np, y_pred_test))\n",
        "        rmses[feature_name] = rmse\n",
        "\n",
        "    return coefficients, rmses\n",
        "\n",
        "coefficients, rmses = successive_orthogonalization(X_train, y_train, X_test, y_test)\n",
        "\n",
        "for feature_name, coeff in coefficients.items():\n",
        "    print(f\"Coefficient for {feature_name}: {coeff}; RMSE: {rmses[feature_name]:.4f}\")"
      ],
      "execution_count": 40,
      "outputs": [
        {
          "output_type": "stream",
          "name": "stdout",
          "text": [
            "Coefficient for pickup_longitude: -0.1525267053503038; RMSE: 9.4119\n",
            "Coefficient for pickup_latitude: 14.468328899555006; RMSE: 9.3971\n",
            "Coefficient for dropoff_longitude: -18.266749207329884; RMSE: 9.3634\n",
            "Coefficient for dropoff_latitude: 7.256889716323383; RMSE: 9.3597\n",
            "Coefficient for passenger_count: 0.12434473009064001; RMSE: 9.3586\n",
            "Coefficient for great_circle_distance: 2.0810330603891822; RMSE: 5.1276\n",
            "Coefficient for pickup_x: 0.0003741105223480282; RMSE: 5.0523\n",
            "Coefficient for pickup_y: 0.04037586266307347; RMSE: 5.0585\n",
            "Coefficient for dropoff_x: -0.14585801845433694; RMSE: 4.9189\n",
            "Coefficient for dropoff_y: 0.16659213732472758; RMSE: 4.8594\n",
            "Coefficient for euclidean_distance: 1.905147842775371; RMSE: 4.7502\n",
            "Coefficient for manhattan_distance: -0.5796990025479797; RMSE: 4.7421\n",
            "Coefficient for pickup_hour: 0.009120813364885896; RMSE: 4.7418\n",
            "Coefficient for pickup_date: -0.00032721642917598465; RMSE: 4.7418\n",
            "Coefficient for pickup_day_of_week: -0.033729977736280926; RMSE: 4.7417\n",
            "Coefficient for pickup_month: 0.03617619499467958; RMSE: 4.7398\n",
            "Coefficient for pickup_year: 0.5170944931141348; RMSE: 4.6418\n"
          ]
        }
      ],
      "metadata": {
        "datalore": {
          "node_id": "id1lE979WJAKd45WEfK7vH",
          "type": "CODE",
          "hide_input_from_viewers": false,
          "hide_output_from_viewers": false,
          "report_properties": {
            "rowId": "tow8GPHzz4alr4JbtzsZiW"
          }
        },
        "colab": {
          "base_uri": "https://localhost:8080/"
        },
        "id": "q5nYbfr9diYy",
        "outputId": "c9d758d0-3f22-42bc-c06d-a74d7575c419"
      }
    },
    {
      "cell_type": "markdown",
      "source": [
        "# 6. Ridge Regression"
      ],
      "metadata": {
        "datalore": {
          "node_id": "L3SvFf44RpVdz3ZoFTwpVW",
          "type": "MD",
          "hide_input_from_viewers": true,
          "hide_output_from_viewers": true
        },
        "id": "2liZJ1gwdiYy"
      }
    },
    {
      "cell_type": "code",
      "source": [
        "from sklearn.linear_model import RidgeCV, Ridge\n",
        "from sklearn.model_selection import KFold\n",
        "from math import sqrt\n",
        "\n",
        "# Define the RidgeCV model with cross-validation\n",
        "ridge_cv = RidgeCV(alphas=np.logspace(-6, 6, 13), cv=KFold(n_splits=5, shuffle=True, random_state=42))\n",
        "\n",
        "# Fit the model to the training data\n",
        "ridge_cv.fit(X_train, y_train)\n",
        "\n",
        "# Get the best alpha (regularization parameter)\n",
        "best_alpha = ridge_cv.alpha_\n",
        "print(f\"Best alpha (regularization parameter): {best_alpha}\")\n",
        "\n",
        "# Fit the Ridge model with the best alpha\n",
        "ridge_best = Ridge(alpha=best_alpha, random_state=42)\n",
        "ridge_best.fit(X_train, y_train)\n",
        "\n",
        "# Predict on the test set\n",
        "y_pred_ridge = ridge_best.predict(X_test)\n",
        "\n",
        "# Evaluate the model\n",
        "rmse_ridge = sqrt(mean_squared_error(y_test, y_pred_ridge))\n",
        "print(f\"RMSE of Ridge regression: {rmse_ridge}\")\n",
        "\n",
        "# You can further analyze coefficients if needed\n",
        "coefficients = ridge_best.coef_\n",
        "print(\"Ridge Regression Coefficients:\", coefficients)"
      ],
      "execution_count": 42,
      "outputs": [
        {
          "output_type": "stream",
          "name": "stdout",
          "text": [
            "Best alpha (regularization parameter): 9.999999999999999e-05\n",
            "RMSE of Ridge regression: 4.63670187196555\n",
            "Ridge Regression Coefficients: [-2.31884801e+03  1.07453476e+04 -2.52192524e+02 -1.09477362e+04\n",
            "  3.73601731e-02  4.83813791e-01  6.76876717e-02 -1.34691186e-01\n",
            " -3.88937729e-02  1.45598137e-01  2.47857383e+00 -5.28208747e-01\n",
            "  8.05259632e-03  1.10337500e-03 -3.42771238e-02  6.96185407e-02\n",
            "  5.14462572e-01]\n"
          ]
        }
      ],
      "metadata": {
        "datalore": {
          "node_id": "2KslUQuECaA4XTwoP6J18F",
          "type": "CODE",
          "hide_input_from_viewers": true,
          "hide_output_from_viewers": true
        },
        "id": "ldxwqlIBdiYy",
        "outputId": "8b5dbebd-93f4-4cbb-c60e-469412117f44",
        "colab": {
          "base_uri": "https://localhost:8080/"
        }
      }
    },
    {
      "cell_type": "markdown",
      "source": [
        "# 7. LASSO"
      ],
      "metadata": {
        "datalore": {
          "node_id": "MhNSRqlcKhoifALuhCygyE",
          "type": "MD",
          "hide_input_from_viewers": true,
          "hide_output_from_viewers": true
        },
        "id": "nsPr5AWNdiYy"
      }
    },
    {
      "cell_type": "code",
      "source": [
        "from sklearn.linear_model import LassoCV, Lasso\n",
        "from sklearn.model_selection import KFold\n",
        "\n",
        "# Define the LassoCV model with cross-validation\n",
        "lasso_cv = LassoCV(cv=KFold(n_splits=5, shuffle=True, random_state=42), random_state=42)  # 5-fold cross-validation\n",
        "\n",
        "# Fit the model to the training data\n",
        "lasso_cv.fit(X_train, y_train)\n",
        "\n",
        "# Get the best alpha (regularization parameter)\n",
        "best_alpha = lasso_cv.alpha_\n",
        "print(f\"Best alpha (regularization parameter): {best_alpha}\")\n",
        "\n",
        "# Fit the Lasso model with the best alpha\n",
        "lasso_best = Lasso(alpha=best_alpha, random_state=42)\n",
        "lasso_best.fit(X_train, y_train)\n",
        "\n",
        "# Predict on the test set\n",
        "y_pred_lasso = lasso_best.predict(X_test)\n",
        "\n",
        "# Evaluate the model\n",
        "rmse_lasso = sqrt(mean_squared_error(y_test, y_pred_lasso))\n",
        "print(f\"RMSE of Lasso regression: {rmse_lasso}\")\n",
        "\n",
        "# Identify which features are eliminated (coefficients close to zero)\n",
        "feature_names = X_train.columns\n",
        "coefficients = lasso_best.coef_\n",
        "\n",
        "eliminated_features = []\n",
        "retained_features = []\n",
        "for feature, coef in zip(feature_names, coefficients):\n",
        "  if abs(coef) < 1e-4:  # Consider coefficients close to zero as eliminated\n",
        "    eliminated_features.append(feature)\n",
        "  else:\n",
        "    retained_features.append(feature)\n",
        "\n",
        "print(\"Eliminated Features:\")\n",
        "print(eliminated_features)\n",
        "print(\"\\nRetained Features:\")\n",
        "retained_features"
      ],
      "execution_count": 44,
      "outputs": [
        {
          "output_type": "stream",
          "name": "stdout",
          "text": [
            "Best alpha (regularization parameter): 12.292638959567116\n",
            "RMSE of Lasso regression: 6.304815853454802\n",
            "Eliminated Features:\n",
            "['pickup_longitude', 'pickup_latitude', 'dropoff_longitude', 'dropoff_latitude', 'passenger_count', 'great_circle_distance', 'euclidean_distance', 'pickup_hour', 'pickup_date', 'pickup_day_of_week', 'pickup_month', 'pickup_year']\n",
            "\n",
            "Retained Features:\n"
          ]
        },
        {
          "output_type": "execute_result",
          "data": {
            "text/plain": [
              "['pickup_x', 'pickup_y', 'dropoff_x', 'dropoff_y', 'manhattan_distance']"
            ]
          },
          "metadata": {},
          "execution_count": 44
        }
      ],
      "metadata": {
        "datalore": {
          "node_id": "PK8vxvIRAENDcSNg7ab1AI",
          "type": "CODE",
          "hide_input_from_viewers": true,
          "hide_output_from_viewers": true
        },
        "id": "QSOFZ4nediYz",
        "outputId": "4e2a44e2-a6da-47c1-879f-65a45b3b6c3c",
        "colab": {
          "base_uri": "https://localhost:8080/"
        }
      }
    }
  ],
  "metadata": {
    "kernelspec": {
      "display_name": "Python 3",
      "name": "python3"
    },
    "datalore": {
      "computation_mode": "JUPYTER",
      "package_manager": "pip",
      "base_environment": "default",
      "packages": [],
      "report_row_ids": [
        "QrazGzelaVG0pR238VTQFJ",
        "VBowQuNq4mrJ89KyRkRunn",
        "mqKqUffzsUsOWvfLn49RkG",
        "YbbvxVMzdXKqtsMrdPVoPk",
        "88u53Nvw6pkP34gCDhU92c",
        "tGs9K05oHpbRqI2LgOj2kU",
        "RzTLVdxipRDpInTH3DnNK6",
        "6YZtapPbVOwz1M5l0bO6ZR",
        "Jz9asbotNQPQx04ElHLgKT",
        "il19oaDS0wZH5VPT4yF7xo",
        "1gNf8RURVzEi5yrtJCm6do",
        "iK35DbOGhbO7oLVKsijlBo",
        "D41NhuhLyAy08DN8ZCo6xy",
        "llTcgTRXT77IQCFNNEkSSA",
        "rbDBNOUtqg2Ivs371etTIO",
        "VTgyUtaMdKI1s0glTv3Hah",
        "vziZbz2cLMJFXqg2gSuaGv",
        "7msxj65rsPRDUoT1NEvoGG",
        "aM19u7WkndsTh1zR39WDAz",
        "AL4fQGVGrZ8o26Iem0XdLd",
        "VZYvsyuxnRTYKUCzBiBWky",
        "LI6zvGKymG4v5dYawjGgpn",
        "L2cOcLHQSsXnZpOiTvcWNS",
        "Npi2Z6Gj6muMHhwKSWHqYM",
        "x1xdPJvlLlosvT0glbiCoa",
        "1Ge2N3zp3qaAjpobOvapKM",
        "WjZ7BC0faVYsAxeFBUoOew",
        "TXSby1rGvaTxRKolSltAwx",
        "Cgq9aL3j9tLdnC8MywVNiZ",
        "wxTabbx5ClFmIdtlhd7z9q",
        "tbQsHnUiXMesAAqOuoThy2",
        "kEfmxxKTusGKyQi6BD5rwm",
        "aLjl7Jjyki5rpeQhcHqVWz",
        "wReUMjbnI1mbHV7wjxRc3f",
        "0gO7eefIvOQ7r6CohH5nAx",
        "njeciIjM9rRT27rXeIAKgv",
        "oFLHSIQGpZ5KaKSjjbxhgM",
        "fUbRoMShcT4K2I1BOlgncf",
        "RvNJggixV6Nzj8rK5UNMQv",
        "rAOum2UDoV1O96UzcKoFFP",
        "T2tbQXIYatOn0ChgMHeKTN",
        "QNJkM4W5JaNw5lhnxDyHWO",
        "JCedg4TNYC0PpmPXPQVvU9",
        "SkoEzLYH7EHcrlD9tukPco",
        "WHuOdBBppRyW2PdGU6jcjR",
        "prao9hmDW6IA20MqeNgLpt",
        "GYttmnAGd1gMLIx64kvSQV",
        "jHjFwmdB42pJ31ZlDxP3kJ",
        "9iIb6WihQh4qPYvw8YKrfL",
        "5vQkgQs7bNEkFHEPgszpMc",
        "SFFZLtN434ytW5Bxdt4fWD",
        "sA6hBjgHtnlVtioAmUd4Hi",
        "bc3SQf6QW2Lltfu8tYW5NO",
        "dJi7UeOocptPVhHiGFZbXv",
        "jHMnRVidREsae46Ljv8Pk1",
        "tow8GPHzz4alr4JbtzsZiW",
        "AbMLI4VrjRwqwazQfiaQNS",
        "dSSMzvNi5Z8yhPXuZr8bkO",
        "R8cNr14KWnsCDQUdbFnsWx",
        "AJHadANHmNUgM7j7dbAdVB",
        "R9z1u6yjcaKZHxC5erHBiH",
        "NpS9FCwjR9AsyvAe5vBaGA"
      ],
      "version": 3
    },
    "colab": {
      "provenance": [],
      "gpuType": "T4",
      "include_colab_link": true
    },
    "language_info": {
      "name": "python"
    },
    "accelerator": "GPU"
  },
  "nbformat": 4,
  "nbformat_minor": 0
}