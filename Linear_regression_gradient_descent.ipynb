{
  "cells": [
    {
      "cell_type": "markdown",
      "metadata": {
        "id": "view-in-github",
        "colab_type": "text"
      },
      "source": [
        "<a href=\"https://colab.research.google.com/github/YannisZang/cs-5805-Machine-Learning/blob/main/Linear_regression_gradient_descent.ipynb\" target=\"_parent\"><img src=\"https://colab.research.google.com/assets/colab-badge.svg\" alt=\"Open In Colab\"/></a>"
      ]
    },
    {
      "cell_type": "code",
      "source": [
        "import pandas as pd\n",
        "import numpy as np"
      ],
      "execution_count": null,
      "outputs": [],
      "metadata": {
        "datalore": {
          "node_id": "EPaVJIRv2Ldg1jZ8OdHxpG",
          "type": "CODE",
          "hide_input_from_viewers": false,
          "hide_output_from_viewers": false,
          "report_properties": {
            "rowId": "rfsi80aNoFOjb3ucvoeXd4"
          }
        },
        "id": "SR61NIKcANU2"
      }
    },
    {
      "cell_type": "code",
      "source": [
        "object_function = lambda x: 3*x+2\n",
        "\n",
        "x = np.linspace(-10, 10, 100)\n",
        "y = object_function(x)\n",
        "df = pd.DataFrame({'x': x, 'y': y})\n",
        "df.plot(x='x', y='y')"
      ],
      "execution_count": null,
      "outputs": [
        {
          "data": {
            "text/plain": [
              "<Axes: xlabel='x'>"
            ]
          },
          "metadata": {},
          "output_type": "display_data"
        },
        {
          "data": {
            "image/png": "[encoded data removed]"
          },
          "metadata": {
            "image/png": {}
          },
          "output_type": "display_data"
        }
      ],
      "metadata": {
        "datalore": {
          "node_id": "HQwFfQj7QcqQfrBew3Ca3R",
          "type": "CODE",
          "hide_input_from_viewers": false,
          "hide_output_from_viewers": false,
          "report_properties": {
            "rowId": "8BGipybO83dwB5RNH4LBXB"
          }
        },
        "id": "1DghJa05ANU4",
        "outputId": "6def415f-3ed3-4f05-c4d7-280317679ebb"
      }
    },
    {
      "cell_type": "code",
      "source": [
        "import numpy as np\n",
        "import pandas as pd\n",
        "import matplotlib.pyplot as plt\n",
        "\n",
        "def gradient_descent_regression(df, learning_rate=0.01, iterations=400):\n",
        "    x = df['x'].values\n",
        "    y = df['y'].values\n",
        "    m = len(x)\n",
        "\n",
        "    ########################################\n",
        "    # Initialize weights\n",
        "    ########################################\n",
        "    w = 0\n",
        "    b = 0\n",
        "    errors = []\n",
        "\n",
        "    for i in range(iterations):\n",
        "        y_pred = w * x + b\n",
        "\n",
        "        error = (1/m) * np.sum((y_pred - y) ** 2)\n",
        "        errors.append(error)\n",
        "\n",
        "        ########################################\n",
        "        # Compute gradients\n",
        "        ########################################\n",
        "        dw = (2/m) * np.sum(x * (y_pred - y))\n",
        "        db = (2/m) * np.sum(y_pred - y)\n",
        "\n",
        "        ########################################\n",
        "        # Update weights\n",
        "        ########################################\n",
        "        w -= learning_rate * dw\n",
        "        b -= learning_rate * db\n",
        "\n",
        "        if i % 25 == 0:\n",
        "            print(f\"Iteration {i}: w={w:.4f}, b={b:.4f}, error={error:.4f}\")\n",
        "\n",
        "    return errors, w, b\n",
        "\n",
        "errors, w, b = gradient_descent_regression(df, iterations=300)\n",
        "\n",
        "\n",
        "plt.plot(errors)\n",
        "plt.xlabel('Iterations')\n",
        "plt.ylabel('Mean Squared Error')\n",
        "plt.title(f'Gradient Descent Convergence\\nFinal Parameters: w={w:.4f}, b={b:.4f}')\n",
        "plt.show()"
      ],
      "execution_count": null,
      "outputs": [
        {
          "name": "stdout",
          "text": [
            "Iteration 0: w=2.0404, b=0.0400, error=310.0606\n",
            "Iteration 25: w=3.0000, b=0.8172, error=1.4567\n",
            "Iteration 50: w=3.0000, b=1.2862, error=0.5305\n",
            "Iteration 75: w=3.0000, b=1.5693, error=0.1932\n",
            "Iteration 100: w=3.0000, b=1.7401, error=0.0704\n",
            "Iteration 125: w=3.0000, b=1.8431, error=0.0256\n",
            "Iteration 150: w=3.0000, b=1.9053, error=0.0093\n",
            "Iteration 175: w=3.0000, b=1.9429, error=0.0034\n",
            "Iteration 200: w=3.0000, b=1.9655, error=0.0012\n",
            "Iteration 225: w=3.0000, b=1.9792, error=0.0005\n",
            "Iteration 250: w=3.0000, b=1.9874, error=0.0002\n",
            "Iteration 275: w=3.0000, b=1.9924, error=0.0001\n"
          ],
          "output_type": "stream"
        },
        {
          "data": {
            "image/png": "[encoded data removed]"
          },
          "metadata": {
            "image/png": {}
          },
          "output_type": "display_data"
        }
      ],
      "metadata": {
        "datalore": {
          "node_id": "GTwzV2UmzZKFZjNcFVjPWu",
          "type": "CODE",
          "hide_input_from_viewers": false,
          "hide_output_from_viewers": false,
          "report_properties": {
            "rowId": "JG11LKObYIfwQdwEoYGzfz"
          }
        },
        "id": "ddvbi05pANU5",
        "outputId": "a00816dd-9867-4dbb-9ab0-ffd247e2fe02"
      }
    }
  ],
  "metadata": {
    "kernelspec": {
      "display_name": "Python",
      "language": "python",
      "name": "python"
    },
    "datalore": {
      "computation_mode": "JUPYTER",
      "package_manager": "pip",
      "base_environment": "default",
      "packages": [],
      "report_row_ids": [
        "rfsi80aNoFOjb3ucvoeXd4",
        "8BGipybO83dwB5RNH4LBXB",
        "JG11LKObYIfwQdwEoYGzfz"
      ],
      "version": 3
    },
    "colab": {
      "provenance": [],
      "include_colab_link": true
    }
  },
  "nbformat": 4,
  "nbformat_minor": 0
}